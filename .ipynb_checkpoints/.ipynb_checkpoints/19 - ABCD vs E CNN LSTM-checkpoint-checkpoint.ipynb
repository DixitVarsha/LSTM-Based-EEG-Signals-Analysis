{
 "cells": [
  {
   "cell_type": "code",
   "execution_count": 1,
   "id": "92b2c83a",
   "metadata": {},
   "outputs": [],
   "source": [
    "import numpy as np\n",
    "import pandas as pd\n",
    "import matplotlib.pyplot as plt\n",
    "from time import sleep\n",
    "import os\n",
    "import pywt\n",
    "import warnings\n",
    "import sklearn\n",
    "from tensorflow.keras import optimizers\n",
    "from tensorflow.keras import layers\n",
    "from keras_preprocessing.sequence import pad_sequences\n",
    "import keras\n",
    "import tensorflow as tf\n",
    "from sklearn.model_selection import train_test_split\n",
    "from keras.models import Sequential\n",
    "from keras.layers import Dense, Dropout, Activation, Bidirectional\n",
    "from keras.layers import Embedding\n",
    "from keras.layers import LSTM\n",
    "from keras.layers import RepeatVector\n",
    "from keras.layers import TimeDistributed\n",
    "from sklearn import metrics\n",
    "from sklearn.metrics import ConfusionMatrixDisplay\n",
    "from sklearn.metrics import classification_report\n",
    "from keras.layers  import Conv1D \n",
    "from keras.layers import GlobalMaxPooling1D"
   ]
  },
  {
   "cell_type": "code",
   "execution_count": 2,
   "id": "ca1de226",
   "metadata": {},
   "outputs": [
    {
     "ename": "FileNotFoundError",
     "evalue": "[WinError 3] The system cannot find the path specified: './Datasets/setA/'",
     "output_type": "error",
     "traceback": [
      "\u001b[1;31m---------------------------------------------------------------------------\u001b[0m",
      "\u001b[1;31mFileNotFoundError\u001b[0m                         Traceback (most recent call last)",
      "Cell \u001b[1;32mIn[2], line 3\u001b[0m\n\u001b[0;32m      1\u001b[0m dirA\u001b[38;5;241m=\u001b[39m\u001b[38;5;124m\"\u001b[39m\u001b[38;5;124m./Datasets/setA/\u001b[39m\u001b[38;5;124m\"\u001b[39m\n\u001b[0;32m      2\u001b[0m tempA\u001b[38;5;241m=\u001b[39m[]\n\u001b[1;32m----> 3\u001b[0m \u001b[38;5;28;01mfor\u001b[39;00m file \u001b[38;5;129;01min\u001b[39;00m \u001b[43mos\u001b[49m\u001b[38;5;241;43m.\u001b[39;49m\u001b[43mlistdir\u001b[49m\u001b[43m(\u001b[49m\u001b[43mdirA\u001b[49m\u001b[43m)\u001b[49m:\n\u001b[0;32m      4\u001b[0m     fl \u001b[38;5;241m=\u001b[39m dirA \u001b[38;5;241m+\u001b[39m file\n\u001b[0;32m      5\u001b[0m     tempA\u001b[38;5;241m.\u001b[39mappend(fl)\n",
      "\u001b[1;31mFileNotFoundError\u001b[0m: [WinError 3] The system cannot find the path specified: './Datasets/setA/'"
     ]
    }
   ],
   "source": [
    "dirA=\"./Datasets/setA/\"\n",
    "tempA=[]\n",
    "for file in os.listdir(dirA):\n",
    "    fl = dirA + file\n",
    "    tempA.append(fl)\n",
    "tempA = sorted(tempA)\n",
    "\n",
    "dirB=\"./Datasets/setB/\"\n",
    "tempB=[]\n",
    "for file in os.listdir(dirB):\n",
    "    fl = dirB + file\n",
    "    tempB.append(fl)\n",
    "tempB = sorted(tempB)\n",
    "\n",
    "dirC=\"./Datasets/setC/\"\n",
    "tempC=[]\n",
    "for file in os.listdir(dirC):\n",
    "    fl = dirC + file\n",
    "    tempC.append(fl)\n",
    "tempC = sorted(tempC)\n",
    "\n",
    "dirD=\"./Datasets/setD/\"\n",
    "tempD=[]\n",
    "for file in os.listdir(dirD):\n",
    "    fl = dirD + file\n",
    "    tempD.append(fl)\n",
    "tempD = sorted(tempD)\n",
    "\n",
    "dirE=\"./Datasets/setE/\"\n",
    "tempE=[]\n",
    "for file in os.listdir(dirE):\n",
    "    fl = dirE + file\n",
    "    tempE.append(fl)\n",
    "tempE = sorted(tempE)"
   ]
  },
  {
   "cell_type": "code",
   "execution_count": null,
   "id": "9d108a82",
   "metadata": {},
   "outputs": [],
   "source": [
    "tempA, tempB, tempC, tempD, tempE"
   ]
  },
  {
   "cell_type": "code",
   "execution_count": null,
   "id": "aa5fb4f6",
   "metadata": {},
   "outputs": [],
   "source": [
    "ta=[]\n",
    "st = 'A'\n",
    "for i in range(len(tempA)):\n",
    "    x = pd.read_table(tempA[i],header=None)\n",
    "    x.columns=[st+str(i)]\n",
    "    ta.append(x)\n",
    "\n",
    "tb=[]\n",
    "st = 'A'\n",
    "for i in range(len(tempB)):\n",
    "    x = pd.read_table(tempB[i],header=None)\n",
    "    x.columns=[st+str(i)]\n",
    "    tb.append(x)\n",
    "\n",
    "tc=[]\n",
    "st = 'A'\n",
    "for i in range(len(tempC)):\n",
    "    x = pd.read_table(tempC[i],header=None)\n",
    "    x.columns=[st+str(i)]\n",
    "    tc.append(x)\n",
    "    \n",
    "td=[]\n",
    "st = 'A'\n",
    "for i in range(len(tempD)):\n",
    "    x = pd.read_table(tempD[i],header=None)\n",
    "    x.columns=[st+str(i)]\n",
    "    td.append(x)\n",
    "    \n",
    "te=[]\n",
    "st = 'A'\n",
    "for i in range(len(tempE)):\n",
    "    x = pd.read_table(tempE[i],header=None)\n",
    "    x.columns=[st+str(i)]\n",
    "    te.append(x)"
   ]
  },
  {
   "cell_type": "code",
   "execution_count": null,
   "id": "4da6ffbd",
   "metadata": {},
   "outputs": [],
   "source": [
    "ta, tb, tc, td, te"
   ]
  },
  {
   "cell_type": "code",
   "execution_count": null,
   "id": "b4ac2fa7",
   "metadata": {},
   "outputs": [],
   "source": [
    "def table(table):\n",
    "    big_table=None\n",
    "    for tf in table:\n",
    "        big_table=pd.concat([big_table,tf],axis=1)\n",
    "    return big_table"
   ]
  },
  {
   "cell_type": "code",
   "execution_count": null,
   "id": "2c573e21",
   "metadata": {},
   "outputs": [],
   "source": [
    "bigA=table(ta)\n",
    "bigB=table(tb)\n",
    "bigC=table(tc)\n",
    "bigD=table(td)\n",
    "bigE=table(te)\n",
    "\n",
    "head=list(bigA.columns.values)"
   ]
  },
  {
   "cell_type": "code",
   "execution_count": null,
   "id": "8f965c2a",
   "metadata": {},
   "outputs": [],
   "source": [
    "def creat_mat(mat):\n",
    "    matx = np.zeros((len(mat),(len(head))))\n",
    "    for i in range(len(head)):\n",
    "        matx[:,i] = mat[head[i]]\n",
    "        sleep(0.01)\n",
    "    return matx"
   ]
  },
  {
   "cell_type": "code",
   "execution_count": null,
   "id": "d578b314",
   "metadata": {},
   "outputs": [],
   "source": [
    "matA = creat_mat(bigA)\n",
    "matB = creat_mat(bigB)\n",
    "matC = creat_mat(bigC)\n",
    "matD = creat_mat(bigD)\n",
    "matE = creat_mat(bigE) \n",
    "\n",
    "matA = np.nan_to_num(matA)\n",
    "matB = np.nan_to_num(matB)\n",
    "matC = np.nan_to_num(matC)\n",
    "matD = np.nan_to_num(matD)\n",
    "matE = np.nan_to_num(matE)"
   ]
  },
  {
   "cell_type": "code",
   "execution_count": null,
   "id": "f33e4c6c",
   "metadata": {},
   "outputs": [],
   "source": [
    "matA.shape, matB.shape, matC.shape, matD.shape, matE.shape"
   ]
  },
  {
   "cell_type": "code",
   "execution_count": null,
   "id": "b8448de1",
   "metadata": {},
   "outputs": [],
   "source": [
    "matNS_out = np.zeros((1,400))\n",
    "matNS = np.concatenate((matA, matB, matC, matD), axis= 1)\n",
    "X_data_NS = np.concatenate((matNS,matNS_out), axis = 0) \n",
    "print(X_data_NS.shape)"
   ]
  },
  {
   "cell_type": "code",
   "execution_count": null,
   "id": "658385d2",
   "metadata": {},
   "outputs": [],
   "source": [
    "matS_out = np.ones((1,100))\n",
    "X_data_S = np.concatenate((matE,matS_out), axis = 0) \n",
    "print(X_data_S.shape)"
   ]
  },
  {
   "cell_type": "code",
   "execution_count": null,
   "id": "d35f26a6",
   "metadata": {},
   "outputs": [],
   "source": [
    "data = np.concatenate((X_data_NS,X_data_S), axis =1)\n",
    "data = data.T\n",
    "c = 'A'\n",
    "col = []\n",
    "sig = []\n",
    "for i in range(np.size(data,1)-1):\n",
    "    col.append(st+str(i))\n",
    "for i in range(np.size(data,0)):\n",
    "    sig.append('S'+str(i))\n",
    "col.append('out')\n",
    "TotalData = pd.DataFrame(data, columns=col, index= sig)"
   ]
  },
  {
   "cell_type": "code",
   "execution_count": null,
   "id": "9e807783",
   "metadata": {},
   "outputs": [],
   "source": [
    "TotalData"
   ]
  },
  {
   "cell_type": "code",
   "execution_count": null,
   "id": "c5287b23",
   "metadata": {},
   "outputs": [],
   "source": [
    "df = TotalData.drop(['out'], axis =1)\n",
    "target = TotalData['out']"
   ]
  },
  {
   "cell_type": "code",
   "execution_count": null,
   "id": "53eb879c",
   "metadata": {},
   "outputs": [],
   "source": [
    "samples = np.arange(0,4097,1)\n",
    "plt.figure(figsize=(16,8))\n",
    "plt.subplot(2,1,1)\n",
    "plt.title('Non-Seizure')\n",
    "plt.plot(samples,matNS[:,0], label = 'Non-Seizure',color='black')\n",
    "plt.subplot(2,1,2,)\n",
    "plt.title('Seizure')\n",
    "plt.plot(samples,matE[:,0],label= 'Seizure',color='green')\n",
    "plt.show()"
   ]
  },
  {
   "cell_type": "code",
   "execution_count": null,
   "id": "ec05fda1",
   "metadata": {},
   "outputs": [],
   "source": [
    "final_values = []"
   ]
  },
  {
   "cell_type": "code",
   "execution_count": null,
   "id": "585c7ebd",
   "metadata": {},
   "outputs": [],
   "source": [
    "filters = pywt.wavelist()\n",
    "print(filters)\n",
    "print(len(filters))\n",
    "level =5\n",
    "w_name = 'bior4.4'"
   ]
  },
  {
   "cell_type": "code",
   "execution_count": null,
   "id": "b1f478c8",
   "metadata": {},
   "outputs": [],
   "source": [
    "w = pywt.Wavelet(w_name)\n",
    "temp_cA = []\n",
    "temp_cD5 = []\n",
    "temp_cD4 = []\n",
    "temp_cD3 = []\n",
    "temp_cD2 = []\n",
    "temp_cD1 = []\n",
    "for i in matNS.T:\n",
    "  cA,cD5,cD4,cD3,cD2,cD1 = pywt.wavedec(i, w, mode='constant', level=level)\n",
    "  temp_cA.append(cA)\n",
    "  temp_cD1.append(cD1)\n",
    "  temp_cD2.append(cD2)\n",
    "  temp_cD3.append(cD3)\n",
    "  temp_cD4.append(cD4)\n",
    "  temp_cD5.append(cD5)\n",
    "coeff_cA = np.array(temp_cA)\n",
    "coeff_cD1 = np.array(temp_cD1)\n",
    "coeff_cD2 = np.array(temp_cD2)\n",
    "coeff_cD3 = np.array(temp_cD3)\n",
    "coeff_cD4 = np.array(temp_cD4)\n",
    "coeff_cD5 = np.array(temp_cD5)"
   ]
  },
  {
   "cell_type": "code",
   "execution_count": null,
   "id": "8e298992",
   "metadata": {},
   "outputs": [],
   "source": [
    "w = pywt.Wavelet(w_name)\n",
    "temp_cA_S = []\n",
    "temp_cD5_S = []\n",
    "temp_cD4_S = []\n",
    "temp_cD3_S = []\n",
    "temp_cD2_S = []\n",
    "temp_cD1_S = []\n",
    "for i in matE.T:\n",
    "  cA_S,cD5_S,cD4_S,cD3_S,cD2_S,cD1_S = pywt.wavedec(i, w, mode='constant', level=level)\n",
    "  temp_cA_S.append(cA_S)\n",
    "  temp_cD3_S.append(cD3_S)\n",
    "  temp_cD4_S.append(cD4_S)\n",
    "  temp_cD5_S.append(cD5_S)\n",
    "  temp_cD2_S.append(cD2_S)\n",
    "  temp_cD1_S.append(cD1_S)\n",
    "coeff_cA_S = np.array(temp_cA_S)\n",
    "coeff_cD5_S = np.array(temp_cD5_S)\n",
    "coeff_cD4_S = np.array(temp_cD4_S)\n",
    "coeff_cD3_S = np.array(temp_cD3_S)\n",
    "coeff_cD2_S = np.array(temp_cD2_S)\n",
    "coeff_cD1_S = np.array(temp_cD1_S)"
   ]
  },
  {
   "cell_type": "code",
   "execution_count": null,
   "id": "8f753572",
   "metadata": {},
   "outputs": [],
   "source": [
    "print(len(coeff_cA_S[0]))\n",
    "print(coeff_cD5_S.shape)\n",
    "print(coeff_cD4_S.shape)\n",
    "print(coeff_cD3_S.shape)\n",
    "print(coeff_cD2_S.shape)\n",
    "print(coeff_cD1_S.shape)\n",
    "print(coeff_cA.shape)\n",
    "print(coeff_cD5.shape)\n",
    "print(coeff_cD4.shape)\n",
    "print(coeff_cD3.shape)\n",
    "print(coeff_cD2.shape)\n",
    "print(coeff_cD1.shape)"
   ]
  },
  {
   "cell_type": "code",
   "execution_count": null,
   "id": "323e6be9",
   "metadata": {},
   "outputs": [],
   "source": [
    "coeff_cA_total = np.concatenate([coeff_cA, coeff_cA_S])\n",
    "coeff_cD1_total = np.concatenate([coeff_cD1, coeff_cD1_S])\n",
    "coeff_cD2_total = np.concatenate([coeff_cD2, coeff_cD2_S])\n",
    "coeff_cD3_total = np.concatenate([coeff_cD3, coeff_cD3_S])\n",
    "coeff_cD4_total = np.concatenate([coeff_cD4, coeff_cD4_S])\n",
    "coeff_cD5_total = np.concatenate([coeff_cD5, coeff_cD5_S])"
   ]
  },
  {
   "cell_type": "code",
   "execution_count": null,
   "id": "50853d52",
   "metadata": {},
   "outputs": [],
   "source": [
    "plt.figure(figsize=(16,3))\n",
    "plt.ylabel('43.4-86.8Hz')\n",
    "plt.xlabel('cD1 Samples')\n",
    "plt.plot(np.arange(0,len(coeff_cD1[0]),1),coeff_cD1[0,:].T)\n",
    "plt.show()"
   ]
  },
  {
   "cell_type": "code",
   "execution_count": null,
   "id": "53c17ab8",
   "metadata": {},
   "outputs": [],
   "source": [
    "plt.figure(figsize=(16,3))\n",
    "plt.ylabel('21.7-43.4Hz')\n",
    "plt.xlabel('cD2 Samples')\n",
    "plt.plot(np.arange(0,len(coeff_cD2[0]),1),coeff_cD2[0,:].T)\n",
    "plt.show()"
   ]
  },
  {
   "cell_type": "code",
   "execution_count": null,
   "id": "cdec2178",
   "metadata": {},
   "outputs": [],
   "source": [
    "plt.figure(figsize=(16,3))\n",
    "plt.ylabel('10.8-21.7Hz')\n",
    "plt.xlabel('cD3 Samples')\n",
    "plt.plot(np.arange(0,len(coeff_cD3[0]),1),coeff_cD3[0,:].T)\n",
    "plt.show()"
   ]
  },
  {
   "cell_type": "code",
   "execution_count": null,
   "id": "7ac82790",
   "metadata": {},
   "outputs": [],
   "source": [
    "plt.figure(figsize=(16,3))\n",
    "plt.ylabel('5.4-10.8Hz')\n",
    "plt.xlabel('cD4 Samples')\n",
    "plt.plot(np.arange(0,len(coeff_cD4[0]),1),coeff_cD4[0,:].T)\n",
    "plt.show()"
   ]
  },
  {
   "cell_type": "code",
   "execution_count": null,
   "id": "01f08790",
   "metadata": {},
   "outputs": [],
   "source": [
    "plt.figure(figsize=(16,3))\n",
    "plt.ylabel('2.7-5.4Hz')\n",
    "plt.xlabel('cD5 Samples')\n",
    "plt.plot(np.arange(0,len(coeff_cD5[0]),1),coeff_cD5[0,:].T)\n",
    "plt.show()"
   ]
  },
  {
   "cell_type": "code",
   "execution_count": null,
   "id": "585445b5",
   "metadata": {},
   "outputs": [],
   "source": [
    "plt.figure(figsize=(16,3))\n",
    "plt.ylabel('0-0.27Hz')\n",
    "plt.xlabel('cA Samples')\n",
    "plt.plot(np.arange(0,len(coeff_cA[0]),1),coeff_cA[0,:].T)\n",
    "plt.show()"
   ]
  },
  {
   "cell_type": "code",
   "execution_count": null,
   "id": "4ee2669a",
   "metadata": {},
   "outputs": [],
   "source": [
    "# plt.figure(figsize=(16,12))\n",
    "# plt.subplot(level+1,1,1)\n",
    "# plt.ylabel('0-2.7Hz')\n",
    "# plt.xlabel('cA Samples')\n",
    "# plt.plot(np.arange(0,len(coeff_cA[0]),1),coeff_cA[0,:].T)\n",
    "\n",
    "# # plt.subplot(level+1,1,2)\n",
    "# # plt.ylabel('2.7-5.4Hz')\n",
    "# # plt.xlabel('cD5 Samples')\n",
    "# # plt.plot(np.arange(0,len(coeff_cD5[0]),1),coeff_cD5[0,:].T)\n",
    "\n",
    "# plt.subplot(level+1,1,2)\n",
    "# plt.ylabel('5.4-10.8Hz')\n",
    "# plt.xlabel('Samples')\n",
    "# plt.plot(np.arange(0,len(coeff_cD4[0]),1),coeff_cD4[0,:].T)\n",
    "\n",
    "# plt.subplot(level+1,1,3)\n",
    "# plt.ylabel('10.8-21.7Hz')\n",
    "# plt.xlabel('Samples')\n",
    "# plt.plot(np.arange(0,len(coeff_cD3[0]),1),coeff_cD3[0,:].T)\n",
    "\n",
    "# plt.subplot(level+1,1,4)\n",
    "# plt.ylabel('21.7-43.4Hz')\n",
    "# plt.xlabel('Samples')\n",
    "# plt.plot(np.arange(0,len(coeff_cD2[0]),1),coeff_cD2[0,:].T)\n",
    "\n",
    "# plt.subplot(level+1,1,5)\n",
    "# plt.ylabel('43.4-86.8Hz')\n",
    "# plt.xlabel('Samples')\n",
    "# plt.plot(np.arange(0,len(coeff_cD1[0]),1),coeff_cD1[0,:].T)\n",
    "\n",
    "# plt.show()"
   ]
  },
  {
   "cell_type": "code",
   "execution_count": null,
   "id": "09ecee02",
   "metadata": {},
   "outputs": [],
   "source": [
    "feature_size = 4\n",
    "columns_name = list()\n",
    "for i in range(feature_size):\n",
    "    columns_name = columns_name + ['f'+str(i+1)]\n",
    "columns_name = columns_name + ['class']"
   ]
  },
  {
   "cell_type": "code",
   "execution_count": null,
   "id": "26f80330",
   "metadata": {},
   "outputs": [],
   "source": [
    "def build_features(mat):\n",
    "    lis = list()\n",
    "    lis = lis + [np.median(mat)]\n",
    "    lis = lis + [np.var(mat)]\n",
    "    lis = lis + [np.ptp(mat)]\n",
    "    lis = lis + [np.std(mat)]\n",
    "    sleep(0.01)\n",
    "             \n",
    "    return lis"
   ]
  },
  {
   "cell_type": "code",
   "execution_count": null,
   "id": "5620bc35",
   "metadata": {},
   "outputs": [],
   "source": [
    "# # create features of class I and cA\n",
    "# f1_cA_NS    = np.zeros((400,1))\n",
    "# f2_cA_NS    = np.zeros((400,1))\n",
    "# f3_cA_NS    = np.zeros((400,1))\n",
    "# f4_cA_NS    = np.zeros((400,1))\n",
    "\n",
    "# for i in range(400):\n",
    "#     [f1_cA_NS[i,0],f2_cA_NS[i,0],f3_cA_NS[i,0],f4_cA_NS[i,0]]=build_features(coeff_cA.T[:,i])\n",
    "\n",
    "# # create features of class I and cD1\n",
    "# f1_cD1_NS    = np.zeros((400,1))\n",
    "# f2_cD1_NS    = np.zeros((400,1))\n",
    "# f3_cD1_NS    = np.zeros((400,1))\n",
    "# f4_cD1_NS    = np.zeros((400,1))\n",
    "\n",
    "# for i in range(400):\n",
    "#     [f1_cD1_NS[i,0],f2_cD1_NS[i,0],f3_cD1_NS[i,0],f4_cD1_NS[i,0]]=build_features(coeff_cD1.T[:,i])\n",
    "  \n",
    "# # create features of class I and cD1\n",
    "# f1_cD2_NS    = np.zeros((400,1))\n",
    "# f2_cD2_NS    = np.zeros((400,1))\n",
    "# f3_cD2_NS   = np.zeros((400,1))\n",
    "# f4_cD2_NS   = np.zeros((400,1))\n",
    "\n",
    "# for i in range(400):\n",
    "#     [f1_cD2_NS[i,0],f2_cD2_NS[i,0],f3_cD2_NS[i,0],f4_cD2_NS[i,0]]=build_features(coeff_cD2.T[:,i])\n",
    "\n",
    "# create features of class I and cD3\n",
    "f1_cD3_NS    = np.zeros((400,1))\n",
    "f2_cD3_NS    = np.zeros((400,1))\n",
    "f3_cD3_NS   = np.zeros((400,1))\n",
    "f4_cD3_NS   = np.zeros((400,1))\n",
    "\n",
    "for i in range(400):\n",
    "    [f1_cD3_NS[i,0],f2_cD3_NS[i,0],f3_cD3_NS[i,0],f4_cD3_NS[i,0]]=build_features(coeff_cD3.T[:,i])\n",
    "\n",
    "# create features of class I and cD4\n",
    "f1_cD4_NS    = np.zeros((400,1))\n",
    "f2_cD4_NS    = np.zeros((400,1))\n",
    "f3_cD4_NS   = np.zeros((400,1))\n",
    "f4_cD4_NS   = np.zeros((400,1))\n",
    "\n",
    "for i in range(400):\n",
    "    [f1_cD4_NS[i,0],f2_cD4_NS[i,0],f3_cD4_NS[i,0],f4_cD4_NS[i,0]]=build_features(coeff_cD4.T[:,i])\n",
    "    \n",
    "# # create features of class I and cD5\n",
    "# f1_cD5_NS    = np.zeros((400,1))\n",
    "# f2_cD5_NS    = np.zeros((400,1))\n",
    "# f3_cD5_NS   = np.zeros((400,1))\n",
    "# f4_cD5_NS   = np.zeros((400,1))\n",
    "\n",
    "# for i in range(400):\n",
    "#     [f1_cD5_NS[i,0],f2_cD5_NS[i,0],f3_cD5_NS[i,0],f4_cD5_NS[i,0]]=build_features(coeff_cD5.T[:,i])"
   ]
  },
  {
   "cell_type": "code",
   "execution_count": null,
   "id": "01fa37e8",
   "metadata": {},
   "outputs": [],
   "source": [
    "# # create features of class II (SEIZURE and cA)\n",
    "# f1_cA_S    = np.zeros((100,1))\n",
    "# f2_cA_S    = np.zeros((100,1))\n",
    "# f3_cA_S    = np.zeros((100,1))\n",
    "# f4_cA_S    = np.zeros((100,1))\n",
    "\n",
    "# for i in range(100):\n",
    "#     [f1_cA_S[i,0],f2_cA_S[i,0],f3_cA_S[i,0],f4_cA_S[i,0]]=build_features(coeff_cA_S.T[:,i])\n",
    "\n",
    "# # create features of class II (SEIZURE and cD1)\n",
    "# f1_cD1_S    = np.zeros((100,1))\n",
    "# f2_cD1_S    = np.zeros((100,1))\n",
    "# f3_cD1_S    = np.zeros((100,1))\n",
    "# f4_cD1_S    = np.zeros((100,1))\n",
    "\n",
    "# for i in range(100):\n",
    "#     [f1_cD1_S[i,0],f2_cD1_S[i,0],f3_cD1_S[i,0],f4_cD1_S[i,0]]=build_features(coeff_cD1_S.T[:,i])\n",
    "\n",
    "# # create features of class II (SEIZURE and cD2)\n",
    "# f1_cD2_S    = np.zeros((100,1))\n",
    "# f2_cD2_S    = np.zeros((100,1))\n",
    "# f3_cD2_S    = np.zeros((100,1))\n",
    "# f4_cD2_S    = np.zeros((100,1))\n",
    "\n",
    "# for i in range(100):\n",
    "#     [f1_cD2_S[i,0],f2_cD2_S[i,0],f3_cD2_S[i,0],f4_cD2_S[i,0]]=build_features(coeff_cD2_S.T[:,i])\n",
    "    \n",
    "# create features of class II (SEIZURE and cD3)\n",
    "f1_cD3_S    = np.zeros((100,1))\n",
    "f2_cD3_S    = np.zeros((100,1))\n",
    "f3_cD3_S    = np.zeros((100,1))\n",
    "f4_cD3_S    = np.zeros((100,1))\n",
    "\n",
    "\n",
    "for i in range(100):\n",
    "    [f1_cD3_S[i,0],f2_cD3_S[i,0],f3_cD3_S[i,0],f4_cD3_S[i,0]]=build_features(coeff_cD3_S.T[:,i])\n",
    "    \n",
    "\n",
    "# create features of class II (SEIZURE and cD4)\n",
    "f1_cD4_S    = np.zeros((100,1))\n",
    "f2_cD4_S    = np.zeros((100,1))\n",
    "f3_cD4_S    = np.zeros((100,1))\n",
    "f4_cD4_S    = np.zeros((100,1))\n",
    "\n",
    "for i in range(100):\n",
    "    [f1_cD4_S[i,0],f2_cD4_S[i,0],f3_cD4_S[i,0],f4_cD4_S[i,0]]=build_features(coeff_cD4_S.T[:,i])\n",
    "\n",
    "# # create features of class II (SEIZURE and cD5)\n",
    "# f1_cD5_S    = np.zeros((100,1))\n",
    "# f2_cD5_S    = np.zeros((100,1))\n",
    "# f3_cD5_S    = np.zeros((100,1))\n",
    "# f4_cD5_S    = np.zeros((100,1))\n",
    "\n",
    "# for i in range(100):\n",
    "#     [f1_cD5_S[i,0],f2_cD5_S[i,0],f3_cD5_S[i,0],f4_cD5_S[i,0]]=build_features(coeff_cD5_S.T[:,i])"
   ]
  },
  {
   "cell_type": "code",
   "execution_count": null,
   "id": "e24340c4",
   "metadata": {},
   "outputs": [],
   "source": [
    "cl_NS = np.ones((400,1))\n",
    "cl_S = np.zeros((100,1))"
   ]
  },
  {
   "cell_type": "code",
   "execution_count": null,
   "id": "bc5dc250",
   "metadata": {},
   "outputs": [],
   "source": [
    "MftNS = np.concatenate([f1_cD3_NS,f2_cD3_NS,f3_cD3_NS,f4_cD3_NS,f1_cD4_NS,f2_cD4_NS,f3_cD4_NS,f4_cD4_NS,cl_NS], axis=1)\n",
    "MftS = np.concatenate([f1_cD3_S,f2_cD3_S,f3_cD3_S,f4_cD3_S,f1_cD4_S,f2_cD4_S,f3_cD4_S,f4_cD4_S,cl_S], axis=1)"
   ]
  },
  {
   "cell_type": "code",
   "execution_count": null,
   "id": "9116c73a",
   "metadata": {},
   "outputs": [],
   "source": [
    "FCM_NS = pd.DataFrame(MftNS,columns=['f1','f2','f3','f4','f5','f6','f7','f8','class'])\n",
    "FCM_S  = pd.DataFrame(MftS ,columns=['f1','f2','f3','f4','f5','f6','f7','f8','class'])"
   ]
  },
  {
   "cell_type": "code",
   "execution_count": null,
   "id": "fed3fae3",
   "metadata": {},
   "outputs": [],
   "source": [
    "FCM_NS"
   ]
  },
  {
   "cell_type": "code",
   "execution_count": null,
   "id": "20244787",
   "metadata": {},
   "outputs": [],
   "source": [
    "FCM_S"
   ]
  },
  {
   "cell_type": "code",
   "execution_count": null,
   "id": "3623259d",
   "metadata": {},
   "outputs": [],
   "source": [
    "TotalDataset = pd.concat([FCM_NS,FCM_S],ignore_index=True)"
   ]
  },
  {
   "cell_type": "code",
   "execution_count": null,
   "id": "ce8efb0a",
   "metadata": {},
   "outputs": [],
   "source": [
    "print(TotalDataset.shape)"
   ]
  },
  {
   "cell_type": "code",
   "execution_count": null,
   "id": "053dad0d",
   "metadata": {},
   "outputs": [],
   "source": [
    "X = TotalDataset[['f1','f2','f3','f4','f5','f6','f7','f8']]\n",
    "y = TotalDataset[['class']]\n",
    "X = np.asarray(X)\n",
    "y = np.asarray(y)"
   ]
  },
  {
   "cell_type": "code",
   "execution_count": null,
   "id": "cd1c36b7",
   "metadata": {},
   "outputs": [],
   "source": [
    "X_train, X_test, y_train, y_test = train_test_split(X, y, test_size=0.10, random_state=42)\n",
    "from sklearn.preprocessing import StandardScaler\n",
    "sc = StandardScaler()\n",
    "X_train = sc.fit_transform(X_train)\n",
    "X_test = sc.transform(X_test)"
   ]
  },
  {
   "cell_type": "code",
   "execution_count": null,
   "id": "2286ad37",
   "metadata": {},
   "outputs": [],
   "source": [
    "print(X_train.shape)\n",
    "print(X_test.shape)\n",
    "print(y_train.shape)\n",
    "print(y_test.shape)"
   ]
  },
  {
   "cell_type": "code",
   "execution_count": null,
   "id": "e92e821f",
   "metadata": {},
   "outputs": [],
   "source": [
    "x_train=X_train.reshape(X_train.shape[0],8,1)\n",
    "y_train=y_train.reshape(y_train.shape[0],1)\n",
    "x_test=X_test.reshape(X_test.shape[0],8,1)\n",
    "y_test=y_test.reshape(y_test.shape[0],1)"
   ]
  },
  {
   "cell_type": "code",
   "execution_count": null,
   "id": "de8be50c",
   "metadata": {},
   "outputs": [],
   "source": [
    "print(x_train.shape)\n",
    "print(x_test.shape)\n",
    "print(y_train.shape)\n",
    "print(y_test.shape)"
   ]
  },
  {
   "cell_type": "code",
   "execution_count": null,
   "id": "5d714fb6",
   "metadata": {},
   "outputs": [],
   "source": [
    "model = Sequential()\n",
    "model.add(Conv1D(filters=32, kernel_size=3, activation='relu', input_shape=(8, 1)))\n",
    "model.add(LSTM(64, return_sequences=True))\n",
    "model.add(GlobalMaxPooling1D())\n",
    "model.add(Dense(150))\n",
    "model.add(Dense(1, activation='sigmoid'))\n",
    "model.compile(optimizer = 'adam', loss = 'binary_crossentropy', metrics = ['accuracy'])\n",
    "print(model.summary())\n",
    "history=model.fit(x_train, y_train, batch_size = 64, epochs = 100)\n",
    "score=model.evaluate(x_test,y_test,batch_size=64)"
   ]
  },
  {
   "cell_type": "code",
   "execution_count": null,
   "id": "c087a119",
   "metadata": {},
   "outputs": [],
   "source": [
    "plt.plot(history.history['accuracy'])\n",
    "plt.title('ABCD vs E(CNN LSTM) accuracy')\n",
    "plt.xlabel('epochs')\n",
    "plt.ylabel('accuracy')\n",
    "plt.legend(['Accuracy'],loc='best')\n",
    "plt.savefig('19-ABCDvsE(CNN LSTM)_Accuracy.png')\n",
    "plt.show()"
   ]
  },
  {
   "cell_type": "code",
   "execution_count": null,
   "id": "2cd26911",
   "metadata": {},
   "outputs": [],
   "source": [
    "plt.plot(history.history['loss'])\n",
    "plt.title('ABCD vs E(CNN LSTM) Loss')\n",
    "plt.xlabel('epochs')\n",
    "plt.ylabel('loss')\n",
    "plt.legend(['Loss'],loc='best')\n",
    "plt.savefig('19-ABCDvsE(CNN LSTM)_Loss.png')\n",
    "plt.show()"
   ]
  },
  {
   "cell_type": "code",
   "execution_count": null,
   "id": "a3c0c737",
   "metadata": {},
   "outputs": [],
   "source": [
    "y_pred=model.predict(x_test).round()\n",
    "scores = model.evaluate(x_test, y_test, verbose=0)\n",
    "print(\"Accuracy: %.2f%%\" % (scores[1]*100))"
   ]
  },
  {
   "cell_type": "code",
   "execution_count": null,
   "id": "d1077640",
   "metadata": {},
   "outputs": [],
   "source": [
    "from sklearn import metrics\n",
    "from sklearn.metrics import ConfusionMatrixDisplay\n",
    "actual=y_test\n",
    "predicted=y_pred\n",
    "confusion_matrix = metrics.confusion_matrix(actual, predicted)\n",
    "ConfusionMatrixDisplay.from_predictions( y_test, y_pred)\n",
    "plt.savefig('19-ABCDvsE(CNN LSTM)_ConfusionMatrix.png')\n",
    "\n",
    "plt.show()"
   ]
  },
  {
   "cell_type": "code",
   "execution_count": null,
   "id": "721cbeae",
   "metadata": {},
   "outputs": [],
   "source": [
    "print(classification_report(y_test, y_pred))"
   ]
  }
 ],
 "metadata": {
  "kernelspec": {
   "display_name": "Python 3 (ipykernel)",
   "language": "python",
   "name": "python3"
  },
  "language_info": {
   "codemirror_mode": {
    "name": "ipython",
    "version": 3
   },
   "file_extension": ".py",
   "mimetype": "text/x-python",
   "name": "python",
   "nbconvert_exporter": "python",
   "pygments_lexer": "ipython3",
   "version": "3.11.4"
  }
 },
 "nbformat": 4,
 "nbformat_minor": 5
}
