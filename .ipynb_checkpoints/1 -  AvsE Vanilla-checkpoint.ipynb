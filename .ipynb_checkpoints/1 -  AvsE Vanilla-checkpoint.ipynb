{
 "cells": [
  {
   "cell_type": "code",
   "execution_count": 1,
   "id": "5c12ed8a",
   "metadata": {},
   "outputs": [],
   "source": [
    "import numpy as np\n",
    "import pandas as pd\n",
    "import matplotlib as mlp\n",
    "import matplotlib.pyplot as plt\n",
    "from tqdm import tqdm\n",
    "import os\n",
    "import random\n",
    "from time import sleep\n",
    "from sklearn.preprocessing import StandardScaler\n",
    "from sklearn.model_selection import train_test_split\n",
    "from sklearn.utils import shuffle\n",
    "from keras.models import Sequential\n",
    "from keras.layers import Dense, Dropout, Activation, Bidirectional\n",
    "from keras.layers import Embedding\n",
    "from keras.layers import LSTM\n",
    "from keras.layers import RepeatVector\n",
    "from keras.layers import TimeDistributed\n",
    "from sklearn import metrics\n",
    "from sklearn.metrics import ConfusionMatrixDisplay\n",
    "from sklearn.metrics import classification_report"
   ]
  },
  {
   "cell_type": "code",
   "execution_count": 2,
   "id": "a60f3d18",
   "metadata": {},
   "outputs": [],
   "source": [
    "dirA='./Datasets/setA/'\n",
    "tempA=[]\n",
    "for file in os.listdir(dirA):\n",
    "    fl = dirA + file\n",
    "    tempA.append(fl)\n",
    "tempA = sorted(tempA)\n",
    "dirE='./Datasets/setE/'\n",
    "tempE=[]\n",
    "for file in os.listdir(dirE):\n",
    "    fl = dirE + file\n",
    "    tempE.append(fl)\n",
    "tempE = sorted(tempE)"
   ]
  },
  {
   "cell_type": "code",
   "execution_count": 3,
   "id": "9077de31",
   "metadata": {},
   "outputs": [],
   "source": [
    "tempA"
   ]
  },
  {
   "cell_type": "code",
   "execution_count": 4,
   "id": "f8ce604e",
   "metadata": {},
   "outputs": [],
   "source": [
    "tempE"
   ]
  },
  {
   "cell_type": "code",
   "execution_count": 5,
   "id": "c441fbb1",
   "metadata": {},
   "outputs": [],
   "source": [
    "ta=[]\n",
    "st = 'A'\n",
    "for i in range(len(tempA)):\n",
    "    x = pd.read_table(tempA[i],header=None)\n",
    "    x.columns=[st+str(i)]\n",
    "    ta.append(x)\n",
    "    \n",
    "te=[]\n",
    "st = 'A'\n",
    "for i in range(len(tempE)):\n",
    "    x = pd.read_table(tempE[i],header=None)\n",
    "    x.columns=[st+str(i)]\n",
    "    te.append(x)"
   ]
  },
  {
   "cell_type": "code",
   "execution_count": 6,
   "id": "0e84b376",
   "metadata": {},
   "outputs": [],
   "source": [
    "ta"
   ]
  },
  {
   "cell_type": "code",
   "execution_count": 7,
   "id": "4d78644d",
   "metadata": {},
   "outputs": [],
   "source": [
    "te"
   ]
  },
  {
   "cell_type": "code",
   "execution_count": 8,
   "id": "a1e8e2f5",
   "metadata": {},
   "outputs": [],
   "source": [
    "def table(table):\n",
    "    big_table=None\n",
    "    for tf in table:\n",
    "        big_table=pd.concat([big_table,tf],axis=1)\n",
    "    return big_table"
   ]
  },
  {
   "cell_type": "code",
   "execution_count": 9,
   "id": "c74be76e",
   "metadata": {},
   "outputs": [],
   "source": [
    "bigA=table(ta)\n",
    "bigE=table(te)\n",
    "\n",
    "head=list(bigA.columns.values)"
   ]
  },
  {
   "cell_type": "code",
   "execution_count": 10,
   "id": "5d672ff3",
   "metadata": {},
   "outputs": [],
   "source": [
    "len(bigA.columns)"
   ]
  },
  {
   "cell_type": "code",
   "execution_count": 11,
   "id": "ffcdab24",
   "metadata": {},
   "outputs": [],
   "source": [
    "bigA"
   ]
  },
  {
   "cell_type": "code",
   "execution_count": 12,
   "id": "84b1f621",
   "metadata": {},
   "outputs": [],
   "source": [
    "def creat_mat(mat):\n",
    "    matx = np.zeros((len(mat),(len(head))))\n",
    "    for i in range(len(head)):\n",
    "        matx[:,i] = mat[head[i]]\n",
    "        sleep(0.01)\n",
    "    return matx"
   ]
  },
  {
   "cell_type": "code",
   "execution_count": 13,
   "id": "94b6adc9",
   "metadata": {},
   "outputs": [],
   "source": [
    "matA=creat_mat(bigA)\n",
    "matE=creat_mat(bigE)"
   ]
  },
  {
   "cell_type": "code",
   "execution_count": 14,
   "id": "c59c089f",
   "metadata": {},
   "outputs": [],
   "source": [
    "matA=np.nan_to_num(matA)\n",
    "matE=np.nan_to_num(matE)"
   ]
  },
  {
   "cell_type": "code",
   "execution_count": 15,
   "id": "c48118ae",
   "metadata": {},
   "outputs": [],
   "source": [
    "matA.shape,matE.shape"
   ]
  },
  {
   "cell_type": "code",
   "execution_count": 16,
   "id": "28081ba8",
   "metadata": {},
   "outputs": [],
   "source": [
    "matA"
   ]
  },
  {
   "cell_type": "code",
   "execution_count": 17,
   "id": "bcf68fc4",
   "metadata": {},
   "outputs": [],
   "source": [
    "matE"
   ]
  },
  {
   "cell_type": "code",
   "execution_count": 18,
   "id": "abc3860f",
   "metadata": {},
   "outputs": [],
   "source": [
    "samples=np.arange(0,4097,1)\n",
    "plt.figure(figsize=(16,8),dpi=200)\n",
    "plt.subplot(2,1,1)\n",
    "plt.title('Non_Seizure')\n",
    "plt.plot(samples,matA[:,0],label='Non_Seizure')\n",
    "plt.subplot(2,1,2)\n",
    "plt.title('Seizure')\n",
    "plt.plot(samples,matE[:,0],label='Seizure')\n",
    "plt.show()"
   ]
  },
  {
   "cell_type": "code",
   "execution_count": 19,
   "id": "fffa1d1f",
   "metadata": {},
   "outputs": [],
   "source": [
    "feature_size = 8\n",
    "columns_name = list()\n",
    "for i in range(feature_size):\n",
    "    columns_name = columns_name + ['f'+str(i+1)]\n",
    "columns_name = columns_name + ['class']"
   ]
  },
  {
   "cell_type": "code",
   "execution_count": 20,
   "id": "cad8b967",
   "metadata": {},
   "outputs": [],
   "source": [
    "def features(mat):\n",
    "  Fs   = 173\n",
    "  fft = np.fft.fft(mat)\n",
    "  mat = np.fft.ifft(fft[0:1500])\n",
    "  mat = abs(np.fft.ifft(fft[0:1000]))\n",
    "  lis = list()\n",
    "  lis = lis + [np.max(abs(fft))]\n",
    "  lis = lis + [np.min(abs(fft))]\n",
    "  lis = lis + [np.mean(abs(fft))]\n",
    "  lis = lis + [np.std(abs(fft))]\n",
    "  lis = lis + [np.max(mat)]\n",
    "  lis = lis + [np.min(mat)]\n",
    "  lis = lis + [np.mean(mat)]\n",
    "  lis = lis + [np.std(mat)]\n",
    "  sleep(0.01)\n",
    "             \n",
    "  return lis"
   ]
  },
  {
   "cell_type": "code",
   "execution_count": 21,
   "id": "a31d8c48",
   "metadata": {},
   "outputs": [],
   "source": [
    "MftA = np.zeros((100,feature_size + 1))\n",
    "for i in range(100):\n",
    "    MftA[i,:] = features(matA[:,i]) + [1]"
   ]
  },
  {
   "cell_type": "code",
   "execution_count": 22,
   "id": "10c2187c",
   "metadata": {},
   "outputs": [],
   "source": [
    "MftE = np.zeros((100,feature_size + 1))\n",
    "for i in range(100):\n",
    "    MftE[i,:] = features(matE[:,i]) + [0]"
   ]
  },
  {
   "cell_type": "code",
   "execution_count": 23,
   "id": "acdb6002",
   "metadata": {},
   "outputs": [],
   "source": [
    "len(MftA),len(MftE)"
   ]
  },
  {
   "cell_type": "code",
   "execution_count": 24,
   "id": "84cbff1b",
   "metadata": {},
   "outputs": [],
   "source": [
    "FCM_A = pd.DataFrame(MftA,columns=columns_name)\n",
    "FCM_E = pd.DataFrame(MftE,columns=columns_name)"
   ]
  },
  {
   "cell_type": "code",
   "execution_count": 25,
   "id": "b7de36bd",
   "metadata": {},
   "outputs": [],
   "source": [
    "TotalDataset = pd.concat([FCM_A,FCM_E],ignore_index=True)"
   ]
  },
  {
   "cell_type": "code",
   "execution_count": 26,
   "id": "ce29b68d",
   "metadata": {},
   "outputs": [],
   "source": [
    "TotalDataset"
   ]
  },
  {
   "cell_type": "code",
   "execution_count": 27,
   "id": "56ddbd3a",
   "metadata": {},
   "outputs": [],
   "source": [
    "x = TotalDataset[columns_name[:-1]]\n",
    "y = TotalDataset[['class']]\n",
    "x = np.asarray(x)\n",
    "y = np.asarray(y)"
   ]
  },
  {
   "cell_type": "code",
   "execution_count": 28,
   "id": "2029a1f4",
   "metadata": {},
   "outputs": [],
   "source": [
    "x_train, x_test, y_train, y_test = train_test_split(x, y, test_size=0.20, random_state=42)"
   ]
  },
  {
   "cell_type": "code",
   "execution_count": 29,
   "id": "b9c67539",
   "metadata": {},
   "outputs": [],
   "source": [
    "st_x= StandardScaler()  \n",
    "x_train= st_x.fit_transform(x_train) "
   ]
  },
  {
   "cell_type": "code",
   "execution_count": 30,
   "id": "238c220d",
   "metadata": {},
   "outputs": [],
   "source": [
    "x_test= st_x.transform(x_test)"
   ]
  },
  {
   "cell_type": "code",
   "execution_count": 31,
   "id": "6ed9e9f7",
   "metadata": {},
   "outputs": [],
   "source": [
    "print(x_train.shape)\n",
    "print(x_test.shape)\n",
    "print(y_train.shape)\n",
    "print(y_test.shape)"
   ]
  },
  {
   "cell_type": "code",
   "execution_count": 32,
   "id": "04ac7d1f",
   "metadata": {},
   "outputs": [],
   "source": [
    "x_train=x_train.reshape(x_train.shape[0],8,1)\n",
    "y_train=y_train.reshape(y_train.shape[0],1)\n",
    "x_test=x_test.reshape(x_test.shape[0],8,1)\n",
    "y_test=y_test.reshape(y_test.shape[0],1)"
   ]
  },
  {
   "cell_type": "code",
   "execution_count": 33,
   "id": "85d073fa",
   "metadata": {},
   "outputs": [],
   "source": [
    "print(x_train.shape)\n",
    "print(x_test.shape)\n",
    "print(y_train.shape)\n",
    "print(y_test.shape)"
   ]
  },
  {
   "cell_type": "code",
   "execution_count": 34,
   "id": "45a731ca",
   "metadata": {},
   "outputs": [],
   "source": [
    "batch_size=20\n",
    "nb_epoch=200\n",
    "hidden_size=64\n",
    "use_dropout=True\n",
    "\n",
    "model=Sequential()\n",
    "model.add(LSTM(hidden_size,input_shape=(8,1)))\n",
    "\n",
    "if use_dropout:\n",
    "    model.add(Dropout(0.50))\n",
    "model.add(Dense(1))\n",
    "model.add(Activation('sigmoid'))\n",
    "\n",
    "model.compile(loss='binary_crossentropy',optimizer='adam',metrics=['acc'])\n",
    "\n",
    "print(model.summary())\n",
    "\n",
    "history=model.fit(x_train,y_train,validation_split=0.2,batch_size=batch_size,epochs=nb_epoch)\n",
    "score=model.evaluate(x_test,y_test,batch_size=batch_size)\n",
    "y_pred=model.predict(x_test).round()"
   ]
  },
  {
   "cell_type": "code",
   "execution_count": 35,
   "id": "5731a682",
   "metadata": {},
   "outputs": [],
   "source": [
    "plt.plot(history.history['acc'])\n",
    "plt.plot(history.history['val_acc'])\n",
    "plt.title('AvsE(vanilla LSTM)')\n",
    "plt.xlabel('Epochs')\n",
    "plt.ylabel('Accuracy')\n",
    "plt.legend(['training accuracy','validation accuracy'],loc='best')\n",
    "plt.savefig('AvsE(Vanilla LSTM)_Accuracy.png')\n",
    "plt.show()"
   ]
  },
  {
   "cell_type": "code",
   "execution_count": 36,
   "id": "eb294019",
   "metadata": {},
   "outputs": [],
   "source": [
    "plt.plot(history.history['loss'])\n",
    "plt.plot(history.history['val_loss'])\n",
    "plt.title('AvsE(vanilla LSTM)')\n",
    "plt.xlabel('Epochs')\n",
    "plt.ylabel('Loss')\n",
    "plt.legend(['training loss ','validation loss'],loc='best')\n",
    "plt.savefig('AvsE(Vanilla LSTM)_Loss.png')\n",
    "plt.show()"
   ]
  },
  {
   "cell_type": "code",
   "execution_count": 37,
   "id": "5ac5782c",
   "metadata": {},
   "outputs": [],
   "source": [
    "actual=y_test\n",
    "predicted=y_pred\n",
    "onfusion_matrix = metrics.confusion_matrix(actual, predicted)\n",
    "ConfusionMatrixDisplay.from_predictions( y_test, y_pred)\n",
    "plt.savefig('AvsE(Vanilla LSTM)_ConfusionMatrix.png')\n",
    "plt.show()"
   ]
  },
  {
   "cell_type": "code",
   "execution_count": 38,
   "id": "564026a3",
   "metadata": {},
   "outputs": [],
   "source": [
    "print(classification_report(y_test, y_pred))"
   ]
  }
 ],
 "metadata": {
  "kernelspec": {
   "display_name": "Python 3 (ipykernel)",
   "language": "python",
   "name": "python3"
  },
  "language_info": {
   "codemirror_mode": {
    "name": "ipython",
    "version": 3
   },
   "file_extension": ".py",
   "mimetype": "text/x-python",
   "name": "python",
   "nbconvert_exporter": "python",
   "pygments_lexer": "ipython3",
   "version": "3.11.3"
  }
 },
 "nbformat": 4,
 "nbformat_minor": 5
}
